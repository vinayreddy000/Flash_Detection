{
  "nbformat": 4,
  "nbformat_minor": 0,
  "metadata": {
    "colab": {
      "provenance": [],
      "mount_file_id": "14shhT9ECkHWe7w4c6WOEqgB2AW7Q93Pd",
      "authorship_tag": "ABX9TyMnujvGR9Dn1uaEURQVbAGM",
      "include_colab_link": true
    },
    "kernelspec": {
      "name": "python3",
      "display_name": "Python 3"
    },
    "language_info": {
      "name": "python"
    }
  },
  "cells": [
    {
      "cell_type": "markdown",
      "metadata": {
        "id": "view-in-github",
        "colab_type": "text"
      },
      "source": [
        "<a href=\"https://colab.research.google.com/github/VaraVroom/FlashDetecttion/blob/main/dip.ipynb\" target=\"_parent\"><img src=\"https://colab.research.google.com/assets/colab-badge.svg\" alt=\"Open In Colab\"/></a>"
      ]
    },
    {
      "cell_type": "code",
      "source": [
        "import numpy as np\n",
        "import cv2\n",
        "import imutils\n",
        "from imutils.video import FileVideoStream\n",
        "import pprint\n",
        "import time\n",
        "import matplotlib.pyplot as plt\n",
        "from pytube import YouTube\n",
        "import json\n",
        "import os\n",
        "import random"
      ],
      "metadata": {
        "id": "pYiDhYuuBe7B"
      },
      "execution_count": null,
      "outputs": []
    },
    {
      "cell_type": "code",
      "source": [
        "def Y_to_lux(Y):\n",
        "    return 413.435 * (0.002745*Y + 0.0189623)**2.2"
      ],
      "metadata": {
        "id": "HeITpQPICpYf"
      },
      "execution_count": null,
      "outputs": []
    },
    {
      "cell_type": "code",
      "source": [
        "def get_avg_diff(hist, N):\n",
        "    quants = hist[0]\n",
        "    vals = hist[1]\n",
        "\n",
        "    # positive\n",
        "    count = 0\n",
        "    index = len(quants) - 1\n",
        "    tot = 0\n",
        "\n",
        "    while count < N and index >= 0:\n",
        "        if count + quants[index] <= N:\n",
        "            count += quants[index]\n",
        "            tot += vals[index] * quants[index]\n",
        "        else:\n",
        "            diff = N - count\n",
        "            count = N\n",
        "            tot += vals[index] * diff\n",
        "        index -= 1\n",
        "\n",
        "    avgP = tot / count\n",
        "\n",
        "    # negative\n",
        "    count = 0\n",
        "    index = 0\n",
        "    tot = 0\n",
        "\n",
        "    while count < N and index < len(quants):\n",
        "        if count + quants[index] <= N:\n",
        "            count += quants[index]\n",
        "            tot += vals[index] * quants[index]\n",
        "        else:\n",
        "            diff = N - count\n",
        "            count = N\n",
        "            tot += vals[index] * diff\n",
        "        index += 1\n",
        "\n",
        "    avgL = tot / count\n",
        "\n",
        "    return avgP if abs(avgP) > abs(avgL) else avgL"
      ],
      "metadata": {
        "id": "_B9RDq3YCsGc"
      },
      "execution_count": null,
      "outputs": []
    },
    {
      "cell_type": "code",
      "source": [
        "def get_triggers(diffs, rad=10, senstivity=12, density=0.4):\n",
        "    queue = [diffs[i] for i in range(rad)]\n",
        "    out = [0 for i in range(len(diffs))]\n",
        "\n",
        "    for i in range(rad, len(diffs)):\n",
        "        queue.pop(0)\n",
        "        queue.append(diffs[i])\n",
        "\n",
        "        count = 0\n",
        "        for val in queue:\n",
        "            if abs(val) > senstivity:\n",
        "                count += 1\n",
        "        if count / rad > density:\n",
        "            out[i] = 200\n",
        "\n",
        "    i, j = 0, 0\n",
        "    pairs = []\n",
        "\n",
        "    while i < len(out) - 1:\n",
        "        if out[i]:\n",
        "            count = 0\n",
        "            j = i\n",
        "            while j < len(out) and out[j]:\n",
        "                count += 1\n",
        "                j += 1\n",
        "\n",
        "            if count < 15:\n",
        "                for k in range(i, j):\n",
        "                    out[k] = 0\n",
        "            else:\n",
        "                pairs.append([i, j])\n",
        "\n",
        "            i = j + 1\n",
        "\n",
        "        else:\n",
        "            i += 1\n",
        "\n",
        "    fps = 30\n",
        "\n",
        "    for pair in pairs:\n",
        "        pair[0] //= 30\n",
        "        pair[1] //= 30\n",
        "\n",
        "\n",
        "    return pairs"
      ],
      "metadata": {
        "id": "mwCoUXT8CyPX"
      },
      "execution_count": null,
      "outputs": []
    },
    {
      "cell_type": "code",
      "source": [
        "def analyze(filename):\n",
        "    print(filename)\n",
        "\n",
        "    fvs = FileVideoStream(filename).start()\n",
        "    first = True\n",
        "    prev_lux = None\n",
        "    prev_diff = 0\n",
        "    accum = None\n",
        "    frame_num = 0\n",
        "    prev_event = -1\n",
        "    events = []\n",
        "\n",
        "    luxes = []\n",
        "    accums = []\n",
        "    diffs = []\n",
        "\n",
        "    while fvs.more():\n",
        "        frame = fvs.read()\n",
        "        frame_num += 1\n",
        "        if frame is not None:\n",
        "            frame = imutils.resize(frame, width=450)\n",
        "            frame = cv2.cvtColor(frame, cv2.COLOR_BGR2GRAY)\n",
        "\n",
        "            if accum is None:\n",
        "                accum = np.zeros(shape=frame.shape)\n",
        "\n",
        "            lux = Y_to_lux(frame)\n",
        "            luxes.append(lux)\n",
        "\n",
        "            if prev_lux is not None:\n",
        "                diff = np.subtract(lux, prev_lux)\n",
        "                if first:\n",
        "                    first = False\n",
        "\n",
        "                N = (frame.shape[0] * frame.shape[1]) // 4\n",
        "\n",
        "                avg_diff = get_avg_diff(np.histogram(diff, bins=200), N)\n",
        "                diffs.append(avg_diff)\n",
        "\n",
        "                accum = np.add(accum, diff)\n",
        "                avg_accum_diff = get_avg_diff(np.histogram(accum, bins=200), N)\n",
        "                accums.append(avg_accum_diff)\n",
        "\n",
        "                if avg_diff * prev_diff < 0:\n",
        "                    avg_accum_diff = get_avg_diff(np.histogram(accum, bins=200), N)\n",
        "\n",
        "\n",
        "\n",
        "                    if prev_event == -1:\n",
        "                        prev_event = frame_num\n",
        "                    else:\n",
        "                        diff_frames = frame_num - prev_event\n",
        "                        events.append((frame_num, diff_frames, avg_accum_diff))\n",
        "                        accum = np.zeros(shape=frame.shape)\n",
        "                        prev_event = frame_num\n",
        "\n",
        "\n",
        "                prev_diff = avg_diff\n",
        "\n",
        "\n",
        "\n",
        "            prev_lux = lux\n",
        "\n",
        "\n",
        "    frames = [False for i in range(len(diffs))]\n",
        "    for pair in get_triggers(diffs):\n",
        "        for i in range(pair[0], pair[1]):\n",
        "            frames[i] = True\n",
        "\n",
        "\n",
        "    return get_triggers(diffs)"
      ],
      "metadata": {
        "id": "tvgggv6KC2xT"
      },
      "execution_count": null,
      "outputs": []
    },
    {
      "cell_type": "code",
      "source": [
        "filename = str(random.randint(1000, 9999))+\".mp4\"\n",
        "url=input(\"url\")\n",
        "yt = YouTube(url)\n",
        "stream = yt.streams.get_highest_resolution()\n",
        "stream.download(output_path='videos/',filename=filename)\n",
        "\n",
        "pairs = analyze(\"videos/\"+filename)\n",
        "print(pairs)\n"
      ],
      "metadata": {
        "colab": {
          "base_uri": "https://localhost:8080/"
        },
        "id": "t5JGhGBJDE2T",
        "outputId": "c2f603b7-f9c0-494f-f24a-4e0f07e11b9e"
      },
      "execution_count": null,
      "outputs": [
        {
          "output_type": "stream",
          "name": "stdout",
          "text": [
            "urlhttps://www.youtube.com/watch?v=q4dDaxHtQDU\n",
            "videos/9178.mp4\n",
            "[[1, 2], [2, 7], [9, 10]]\n"
          ]
        }
      ]
    },
    {
      "cell_type": "code",
      "source": [],
      "metadata": {
        "id": "b7Qs9e1dKBHE"
      },
      "execution_count": null,
      "outputs": []
    }
  ]
}